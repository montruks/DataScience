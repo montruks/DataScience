{
 "cells": [
  {
   "cell_type": "markdown",
   "id": "916c398b",
   "metadata": {},
   "source": [
    "# Exercise 2 - Citybik.es dataset"
   ]
  },
  {
   "cell_type": "markdown",
   "id": "052c64e8",
   "metadata": {},
   "source": [
    "1\\. Load the previously downloaded Citybik.es dataset as a Python dictionary. After the dictionary is loaded, explore its contents."
   ]
  },
  {
   "cell_type": "code",
   "execution_count": 1,
   "id": "2ef35b1f",
   "metadata": {},
   "outputs": [],
   "source": [
    "import json\n",
    "from math import cos, acos, sin\n",
    "\n",
    "with open(\"to_bike.json\") as f:\n",
    "    ds = json.load(f)"
   ]
  },
  {
   "cell_type": "code",
   "execution_count": 2,
   "id": "606875a1",
   "metadata": {},
   "outputs": [
    {
     "name": "stdout",
     "output_type": "stream",
     "text": [
      "<class 'dict'>\n",
      "dict_keys(['network'])\n",
      "<class 'dict'>\n",
      "dict_keys(['company', 'href', 'id', 'location', 'name', 'source', 'stations'])\n",
      "<class 'list'>\n",
      "<class 'dict'>\n",
      "dict_keys(['empty_slots', 'extra', 'free_bikes', 'id', 'latitude', 'longitude', 'name', 'timestamp'])\n",
      "<class 'dict'>\n",
      "dict_keys(['number', 'reviews', 'score', 'status', 'uid'])\n",
      "<class 'str'>\n",
      "online\n"
     ]
    }
   ],
   "source": [
    "print(type(ds))\n",
    "print(ds.keys())\n",
    "\n",
    "print(type(ds['network']))\n",
    "print(ds['network'].keys())\n",
    "\n",
    "print(type(ds['network']['stations']))\n",
    "\n",
    "print(type(ds['network']['stations'][0]))\n",
    "print(ds['network']['stations'][0].keys())\n",
    "\n",
    "print(type(ds['network']['stations'][0]['extra']))\n",
    "print(ds['network']['stations'][0]['extra'].keys())\n",
    "\n",
    "print(type(ds['network']['stations'][0]['extra']['status']))\n",
    "print(ds['network']['stations'][0]['extra']['status'])"
   ]
  },
  {
   "cell_type": "markdown",
   "id": "005dbd32",
   "metadata": {},
   "source": [
    "2\\. Count and print the number of active stations (a station is active if its `extra.status` field is \"*online*\")."
   ]
  },
  {
   "cell_type": "code",
   "execution_count": 3,
   "id": "c98986c4",
   "metadata": {},
   "outputs": [
    {
     "name": "stdout",
     "output_type": "stream",
     "text": [
      "111\n"
     ]
    }
   ],
   "source": [
    "count = 0\n",
    "for station in ds['network']['stations']:\n",
    "    if station['extra']['status'] == 'online':\n",
    "        count += 1\n",
    "print(count)"
   ]
  },
  {
   "cell_type": "markdown",
   "id": "12ea188b",
   "metadata": {},
   "source": [
    "3\\. Count and print the total number of bikes available (field `free_bikes`) and the number of free docks (field `empty_slots`) throughout all stations."
   ]
  },
  {
   "cell_type": "code",
   "execution_count": 4,
   "id": "0392aaea",
   "metadata": {},
   "outputs": [
    {
     "name": "stdout",
     "output_type": "stream",
     "text": [
      "146\n",
      "1296\n"
     ]
    }
   ],
   "source": [
    "count_free_bikes = 0\n",
    "count_empty_slots = 0\n",
    "for station in ds['network']['stations']:\n",
    "    count_free_bikes += station['free_bikes']\n",
    "    count_empty_slots += station['empty_slots']\n",
    "print(count_free_bikes)\n",
    "print(count_empty_slots)"
   ]
  },
  {
   "cell_type": "markdown",
   "id": "1de38852",
   "metadata": {},
   "source": [
    "4\\. Given the coordinates (latitude, longitude) of a point, identify the closest bike station to it that has available bikes."
   ]
  },
  {
   "cell_type": "code",
   "execution_count": 5,
   "id": "ebf7fdfa",
   "metadata": {},
   "outputs": [],
   "source": [
    "def distance_coords(lat1, lng1, lat2, lng2):\n",
    "    deg2rad = lambda x: x * 3.141592 / 180\n",
    "    lat1, lng1, lat2, lng2 = map(deg2rad, [ lat1, lng1, lat2, lng2 ])\n",
    "    R = 6378100 # Radius of the Earth, in meters\n",
    "    return R * acos(sin(lat1) * sin(lat2) + cos(lat1) * cos(lat2) * cos(lng1 - lng2))"
   ]
  },
  {
   "cell_type": "code",
   "execution_count": 6,
   "id": "74c33782",
   "metadata": {},
   "outputs": [
    {
     "name": "stdout",
     "output_type": "stream",
     "text": [
      "{'empty_slots': 10, 'extra': {'number': 100, 'reviews': 583, 'score': 4.3, 'status': 'online', 'uid': '350'}, 'free_bikes': 1, 'id': '1916e772eb3e6c88b37a0f584da1e333', 'latitude': 45.073583, 'longitude': 7.692797, 'name': 'Regina Margherita 3', 'timestamp': '2022-10-10T12:40:29.798000Z'}\n"
     ]
    }
   ],
   "source": [
    "latitude, longitude = 45.074512, 7.694419\n",
    "lst = [station for station in ds['network']['stations'] if station['free_bikes'] > 0]\n",
    "min_dist = min(lst, key = lambda station: distance_coords(latitude, longitude, station['latitude'], station['longitude']))\n",
    "print(min_dist)"
   ]
  },
  {
   "cell_type": "code",
   "execution_count": null,
   "id": "7304dbed",
   "metadata": {},
   "outputs": [],
   "source": []
  }
 ],
 "metadata": {
  "kernelspec": {
   "display_name": "venv",
   "language": "python",
   "name": "venv"
  },
  "language_info": {
   "codemirror_mode": {
    "name": "ipython",
    "version": 3
   },
   "file_extension": ".py",
   "mimetype": "text/x-python",
   "name": "python",
   "nbconvert_exporter": "python",
   "pygments_lexer": "ipython3",
   "version": "3.10.7"
  }
 },
 "nbformat": 4,
 "nbformat_minor": 5
}
