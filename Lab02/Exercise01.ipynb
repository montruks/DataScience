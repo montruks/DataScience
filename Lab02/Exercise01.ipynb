{
 "cells": [
  {
   "cell_type": "code",
   "execution_count": 1,
   "id": "3d206401",
   "metadata": {},
   "outputs": [],
   "source": [
    "import csv\n",
    "from datetime import datetime\n",
    "\n",
    "with open(\"GLT_filtered.csv\") as f:\n",
    "    GLT = list(csv.reader(f))"
   ]
  },
  {
   "cell_type": "code",
   "execution_count": 2,
   "id": "b573675f",
   "metadata": {},
   "outputs": [
    {
     "name": "stdout",
     "output_type": "stream",
     "text": [
      "['Date', '1849-01-01', '1849-02-01', '1849-03-01', '1849-04-01', '1849-05-01', '1849-06-01', '1849-07-01', '1849-08-01', '1849-09-01']\n",
      "['AverageTemperature', '26.704', '27.434', '', '26.14', '25.427', '24.844', '24.058000000000003', '23.576', '']\n",
      "['AverageTemperatureUncertainty', '1.435', '1.3619999999999999', '', '1.3869999999999998', '1.2', '1.402', '1.254', '1.265', '']\n",
      "['City', 'Abidjan', 'Abidjan', 'Abidjan', 'Abidjan', 'Abidjan', 'Abidjan', 'Abidjan', 'Abidjan', 'Abidjan']\n",
      "['Country', \"CÃ´te D'Ivoire\", \"CÃ´te D'Ivoire\", \"CÃ´te D'Ivoire\", \"CÃ´te D'Ivoire\", \"CÃ´te D'Ivoire\", \"CÃ´te D'Ivoire\", \"CÃ´te D'Ivoire\", \"CÃ´te D'Ivoire\", \"CÃ´te D'Ivoire\"]\n",
      "['Latitude', '5.63N', '5.63N', '5.63N', '5.63N', '5.63N', '5.63N', '5.63N', '5.63N', '5.63N']\n",
      "['Longitude', '3.23W', '3.23W', '3.23W', '3.23W', '3.23W', '3.23W', '3.23W', '3.23W', '3.23W']\n"
     ]
    }
   ],
   "source": [
    "for i in range(0, 7):\n",
    "    lst = [line[i] for line in GLT[0:10]]\n",
    "    print(lst)"
   ]
  },
  {
   "cell_type": "code",
   "execution_count": 3,
   "id": "7e8d4bba",
   "metadata": {},
   "outputs": [],
   "source": [
    "GLT = GLT[1:]\n",
    "GLT.sort(key=lambda line: (line[3], datetime.strptime(line[0], \"%Y-%d-%m\")))"
   ]
  },
  {
   "cell_type": "code",
   "execution_count": 4,
   "id": "a5d0dff2",
   "metadata": {},
   "outputs": [],
   "source": [
    "for i, line in enumerate(GLT):\n",
    "    if line[1] == '':\n",
    "        if i == 0 or GLT[i-1][3] != line[3]:\n",
    "            prec_value = 0\n",
    "        else:\n",
    "            prec_value = GLT[i-1][1]\n",
    "                \n",
    "        next_value = 0\n",
    "        for j in range(i + 1, len(GLT)):\n",
    "            if GLT[j][3] != line[3]:\n",
    "                break\n",
    "            if GLT[j][1] != '':\n",
    "                next_value = float(GLT[j][1])\n",
    "                break\n",
    "        \n",
    "        line[1] = (prec_value + next_value) / 2\n",
    "    else:\n",
    "        line[1] = float(line[1])"
   ]
  },
  {
   "cell_type": "code",
   "execution_count": 5,
   "id": "92e04336",
   "metadata": {},
   "outputs": [],
   "source": [
    "def top_N_measure(ds, city, N):\n",
    "    lst = [line[1] for line in ds if line[3] == city]\n",
    "    lst.sort()\n",
    "    print(['%.2f' % elem for elem in lst[0:N]])\n",
    "    print(['%.2f' % elem for elem in lst[-N:]])"
   ]
  },
  {
   "cell_type": "code",
   "execution_count": 6,
   "id": "42a6d8a8",
   "metadata": {},
   "outputs": [
    {
     "name": "stdout",
     "output_type": "stream",
     "text": [
      "['15.15', '15.67', '16.20', '16.25', '16.69', '16.79', '16.83', '16.88', '16.96', '17.09', '17.10', '17.16']\n",
      "['30.24', '30.25', '30.28', '30.40', '30.42', '30.47', '30.47', '30.52', '30.57', '30.57', '30.63', '30.67']\n"
     ]
    }
   ],
   "source": [
    "top_N_measure(GLT, 'Dhaka', 12)"
   ]
  },
  {
   "cell_type": "code",
   "execution_count": null,
   "id": "ebd08d96",
   "metadata": {},
   "outputs": [],
   "source": []
  }
 ],
 "metadata": {
  "kernelspec": {
   "display_name": "venv",
   "language": "python",
   "name": "venv"
  },
  "language_info": {
   "codemirror_mode": {
    "name": "ipython",
    "version": 3
   },
   "file_extension": ".py",
   "mimetype": "text/x-python",
   "name": "python",
   "nbconvert_exporter": "python",
   "pygments_lexer": "ipython3",
   "version": "3.10.7"
  }
 },
 "nbformat": 4,
 "nbformat_minor": 5
}
