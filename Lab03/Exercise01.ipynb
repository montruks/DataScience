{
 "cells": [
  {
   "cell_type": "code",
   "execution_count": 1,
   "id": "72d814a4",
   "metadata": {},
   "outputs": [],
   "source": [
    "import csv\n",
    "from mlxtend.frequent_patterns import fpgrowth, association_rules\n",
    "import pandas as pd"
   ]
  },
  {
   "cell_type": "code",
   "execution_count": 2,
   "id": "a30bcd46",
   "metadata": {},
   "outputs": [],
   "source": [
    "with open(\"online_retail.csv\") as f:\n",
    "    sales = list(csv.reader(f))"
   ]
  },
  {
   "cell_type": "code",
   "execution_count": 3,
   "id": "c34f5dae",
   "metadata": {},
   "outputs": [],
   "source": [
    "sales = sales[1:]"
   ]
  },
  {
   "cell_type": "code",
   "execution_count": 4,
   "id": "6387b91f",
   "metadata": {},
   "outputs": [],
   "source": [
    "sales = list(filter(lambda x: x[0][0] != 'C', sales))"
   ]
  },
  {
   "cell_type": "code",
   "execution_count": 5,
   "id": "13ccd431",
   "metadata": {},
   "outputs": [],
   "source": [
    "d_invoice = {}\n",
    "for row in sales:\n",
    "    lst = d_invoice.get(row[0], [])\n",
    "    lst.append(row[2])\n",
    "    d_invoice[row[0]] = lst"
   ]
  },
  {
   "cell_type": "code",
   "execution_count": 6,
   "id": "33372563",
   "metadata": {},
   "outputs": [],
   "source": [
    "products = []\n",
    "for row in sales:\n",
    "    if row[2] not in products:\n",
    "        products.append(row[2])"
   ]
  },
  {
   "cell_type": "code",
   "execution_count": 7,
   "id": "e9db3c09",
   "metadata": {},
   "outputs": [],
   "source": [
    "pa_matrix = []\n",
    "for i, key in enumerate(d_invoice):\n",
    "    pa_matrix.append([])\n",
    "    for product in products:\n",
    "        if product in d_invoice[key]:\n",
    "            pa_matrix[i].append(True)\n",
    "        else:\n",
    "            pa_matrix[i].append(False)"
   ]
  },
  {
   "cell_type": "code",
   "execution_count": 8,
   "id": "fd4a61ef",
   "metadata": {},
   "outputs": [],
   "source": [
    "df = pd.DataFrame(data=pa_matrix, columns=products)"
   ]
  },
  {
   "cell_type": "code",
   "execution_count": 10,
   "id": "141a2c9b",
   "metadata": {},
   "outputs": [
    {
     "name": "stdout",
     "output_type": "stream",
     "text": [
      "303\n"
     ]
    }
   ],
   "source": [
    "fi = fpgrowth(df, 0.02)\n",
    "print(len(fi))"
   ]
  },
  {
   "cell_type": "code",
   "execution_count": 11,
   "id": "3d333c38",
   "metadata": {},
   "outputs": [
    {
     "data": {
      "text/html": [
       "<div>\n",
       "<style scoped>\n",
       "    .dataframe tbody tr th:only-of-type {\n",
       "        vertical-align: middle;\n",
       "    }\n",
       "\n",
       "    .dataframe tbody tr th {\n",
       "        vertical-align: top;\n",
       "    }\n",
       "\n",
       "    .dataframe thead th {\n",
       "        text-align: right;\n",
       "    }\n",
       "</style>\n",
       "<table border=\"1\" class=\"dataframe\">\n",
       "  <thead>\n",
       "    <tr style=\"text-align: right;\">\n",
       "      <th></th>\n",
       "      <th>antecedents</th>\n",
       "      <th>consequents</th>\n",
       "      <th>antecedent support</th>\n",
       "      <th>consequent support</th>\n",
       "      <th>support</th>\n",
       "      <th>confidence</th>\n",
       "      <th>lift</th>\n",
       "      <th>leverage</th>\n",
       "      <th>conviction</th>\n",
       "    </tr>\n",
       "  </thead>\n",
       "  <tbody>\n",
       "    <tr>\n",
       "      <th>0</th>\n",
       "      <td>(2344, 619)</td>\n",
       "      <td>(624)</td>\n",
       "      <td>0.027148</td>\n",
       "      <td>0.046003</td>\n",
       "      <td>0.024565</td>\n",
       "      <td>0.904841</td>\n",
       "      <td>19.669380</td>\n",
       "      <td>0.023316</td>\n",
       "      <td>10.025342</td>\n",
       "    </tr>\n",
       "    <tr>\n",
       "      <th>1</th>\n",
       "      <td>(2344, 624)</td>\n",
       "      <td>(619)</td>\n",
       "      <td>0.028689</td>\n",
       "      <td>0.048314</td>\n",
       "      <td>0.024565</td>\n",
       "      <td>0.856240</td>\n",
       "      <td>17.722404</td>\n",
       "      <td>0.023179</td>\n",
       "      <td>6.619970</td>\n",
       "    </tr>\n",
       "  </tbody>\n",
       "</table>\n",
       "</div>"
      ],
      "text/plain": [
       "   antecedents consequents  antecedent support  consequent support   support  \\\n",
       "0  (2344, 619)       (624)            0.027148            0.046003  0.024565   \n",
       "1  (2344, 624)       (619)            0.028689            0.048314  0.024565   \n",
       "\n",
       "   confidence       lift  leverage  conviction  \n",
       "0    0.904841  19.669380  0.023316   10.025342  \n",
       "1    0.856240  17.722404  0.023179    6.619970  "
      ]
     },
     "execution_count": 11,
     "metadata": {},
     "output_type": "execute_result"
    }
   ],
   "source": [
    "association_rules(fi, metric='confidence', min_threshold=0.85)"
   ]
  },
  {
   "cell_type": "code",
   "execution_count": 12,
   "id": "f8c30960",
   "metadata": {},
   "outputs": [
    {
     "name": "stdout",
     "output_type": "stream",
     "text": [
      "PINK REGENCY TEACUP AND SAUCER\n",
      "ROSES REGENCY TEACUP AND SAUCER \n",
      "GREEN REGENCY TEACUP AND SAUCER\n"
     ]
    }
   ],
   "source": [
    "print(products[2344])\n",
    "print(products[619])\n",
    "print(products[624])"
   ]
  },
  {
   "cell_type": "code",
   "execution_count": null,
   "id": "4fb7b943",
   "metadata": {},
   "outputs": [],
   "source": []
  }
 ],
 "metadata": {
  "kernelspec": {
   "display_name": "venv",
   "language": "python",
   "name": "venv"
  },
  "language_info": {
   "codemirror_mode": {
    "name": "ipython",
    "version": 3
   },
   "file_extension": ".py",
   "mimetype": "text/x-python",
   "name": "python",
   "nbconvert_exporter": "python",
   "pygments_lexer": "ipython3",
   "version": "3.10.7"
  }
 },
 "nbformat": 4,
 "nbformat_minor": 5
}
