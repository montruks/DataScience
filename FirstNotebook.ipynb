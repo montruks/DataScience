{
 "cells": [
  {
   "cell_type": "markdown",
   "id": "df140e92",
   "metadata": {},
   "source": [
    "# Primo jupyter notebook in ambiente virtuale"
   ]
  },
  {
   "cell_type": "markdown",
   "id": "6124aed2",
   "metadata": {},
   "source": [
    "Importo la libreria *virtualenv* che non si trova nel mio ambiente virtuale. Mi aspetto un **errore**."
   ]
  },
  {
   "cell_type": "code",
   "execution_count": 1,
   "id": "63498373",
   "metadata": {},
   "outputs": [
    {
     "ename": "ModuleNotFoundError",
     "evalue": "No module named 'virtualenv'",
     "output_type": "error",
     "traceback": [
      "\u001b[1;31m---------------------------------------------------------------------------\u001b[0m",
      "\u001b[1;31mModuleNotFoundError\u001b[0m                       Traceback (most recent call last)",
      "Cell \u001b[1;32mIn [1], line 1\u001b[0m\n\u001b[1;32m----> 1\u001b[0m \u001b[38;5;28;01mimport\u001b[39;00m \u001b[38;5;21;01mvirtualenv\u001b[39;00m \u001b[38;5;28;01mas\u001b[39;00m \u001b[38;5;21;01mve\u001b[39;00m\n\u001b[0;32m      2\u001b[0m ve\u001b[38;5;241m.\u001b[39m__version__\n",
      "\u001b[1;31mModuleNotFoundError\u001b[0m: No module named 'virtualenv'"
     ]
    }
   ],
   "source": [
    "import virtualenv as ve\n",
    "ve.__version__"
   ]
  },
  {
   "cell_type": "markdown",
   "id": "c837f33a",
   "metadata": {},
   "source": [
    "Ora importo la libreria *numpy* che si trova nell'ambiente virtuale ma non nel kernel python3."
   ]
  },
  {
   "cell_type": "code",
   "execution_count": 2,
   "id": "3d4696fe",
   "metadata": {},
   "outputs": [
    {
     "data": {
      "text/plain": [
       "'1.23.3'"
      ]
     },
     "execution_count": 2,
     "metadata": {},
     "output_type": "execute_result"
    }
   ],
   "source": [
    "import numpy as np\n",
    "np.__version__"
   ]
  },
  {
   "cell_type": "markdown",
   "id": "3a1000ec",
   "metadata": {},
   "source": [
    "Tutto funziona correttamente."
   ]
  },
  {
   "cell_type": "code",
   "execution_count": null,
   "id": "f4a81816",
   "metadata": {},
   "outputs": [],
   "source": []
  }
 ],
 "metadata": {
  "kernelspec": {
   "display_name": "venv",
   "language": "python",
   "name": "venv"
  },
  "language_info": {
   "codemirror_mode": {
    "name": "ipython",
    "version": 3
   },
   "file_extension": ".py",
   "mimetype": "text/x-python",
   "name": "python",
   "nbconvert_exporter": "python",
   "pygments_lexer": "ipython3",
   "version": "3.10.7"
  }
 },
 "nbformat": 4,
 "nbformat_minor": 5
}
