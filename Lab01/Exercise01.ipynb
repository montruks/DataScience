{
 "cells": [
  {
   "cell_type": "code",
   "execution_count": 1,
   "id": "45793582",
   "metadata": {},
   "outputs": [
    {
     "name": "stdout",
     "output_type": "stream",
     "text": [
      "<class 'list'>\n",
      "<class 'list'>\n"
     ]
    }
   ],
   "source": [
    "import csv\n",
    "import math\n",
    "\n",
    "with open(\"iris.csv\") as f:\n",
    "    ds = list(csv.reader(f))\n",
    "    ds = ds[0:-1]\n",
    "    print(type(ds))\n",
    "    print(type(ds[1]))"
   ]
  },
  {
   "cell_type": "code",
   "execution_count": 2,
   "id": "f9d09468",
   "metadata": {},
   "outputs": [],
   "source": [
    "def mean_std(lst):\n",
    "    m = sum(lst)/len(lst)\n",
    "    for j in range(0, len(lst)):\n",
    "        lst[j] = (lst[j] - m) ** 2\n",
    "    std = math.sqrt(sum(lst) / len(lst))\n",
    "    return m, std"
   ]
  },
  {
   "cell_type": "code",
   "execution_count": 3,
   "id": "46a9921d",
   "metadata": {},
   "outputs": [
    {
     "name": "stdout",
     "output_type": "stream",
     "text": [
      "feature 0 mean is 5.843333333333335 standard deviation is 0.8253012917851409\n",
      "feature 1 mean is 3.0540000000000007 standard deviation is 0.4321465800705435\n",
      "feature 2 mean is 3.7586666666666693 standard deviation is 1.7585291834055201\n",
      "feature 3 mean is 1.1986666666666672 standard deviation is 0.760612618588172\n"
     ]
    }
   ],
   "source": [
    "for i in range(0, 4):\n",
    "    lst = []\n",
    "    for line in ds:\n",
    "        lst.append(float(line[i]))\n",
    "    \n",
    "    m , std =  mean_std(lst)\n",
    "    print(\"feature\", i, \"mean is\", m, \"standard deviation is\", std)"
   ]
  },
  {
   "cell_type": "code",
   "execution_count": 4,
   "id": "f81fc58d",
   "metadata": {},
   "outputs": [],
   "source": [
    "iris_type = set()\n",
    "for line in ds:\n",
    "    iris_type.add(line[4])"
   ]
  },
  {
   "cell_type": "code",
   "execution_count": 5,
   "id": "bd45eafa",
   "metadata": {},
   "outputs": [
    {
     "name": "stdout",
     "output_type": "stream",
     "text": [
      "type Iris-versicolor feature 0 mean is 5.936 standard deviation is 0.5109833656783752\n",
      "type Iris-versicolor feature 1 mean is 2.7700000000000005 standard deviation is 0.31064449134018135\n",
      "type Iris-versicolor feature 2 mean is 4.26 standard deviation is 0.4651881339845204\n",
      "type Iris-versicolor feature 3 mean is 1.3259999999999998 standard deviation is 0.19576516544063702\n",
      "type Iris-setosa feature 0 mean is 5.005999999999999 standard deviation is 0.348946987377739\n",
      "type Iris-setosa feature 1 mean is 3.4180000000000006 standard deviation is 0.37719490982779713\n",
      "type Iris-setosa feature 2 mean is 1.464 standard deviation is 0.17176728442867115\n",
      "type Iris-setosa feature 3 mean is 0.2439999999999999 standard deviation is 0.10613199329137278\n",
      "type Iris-virginica feature 0 mean is 6.587999999999998 standard deviation is 0.6294886813914925\n",
      "type Iris-virginica feature 1 mean is 2.9739999999999998 standard deviation is 0.319255383666431\n",
      "type Iris-virginica feature 2 mean is 5.552 standard deviation is 0.5463478745268441\n",
      "type Iris-virginica feature 3 mean is 2.026 standard deviation is 0.2718896835115301\n"
     ]
    }
   ],
   "source": [
    "for t in iris_type:\n",
    "    for i in range(0, 4):\n",
    "        lst = []\n",
    "        for line in ds:\n",
    "            if line[4] == t:\n",
    "                lst.append(float(line[i]))\n",
    "\n",
    "        m , std =  mean_std(lst)\n",
    "        print(\"type\", t, \"feature\", i, \"mean is\", m, \"standard deviation is\", std)"
   ]
  },
  {
   "cell_type": "code",
   "execution_count": null,
   "id": "52d5d006",
   "metadata": {},
   "outputs": [],
   "source": []
  }
 ],
 "metadata": {
  "kernelspec": {
   "display_name": "venv",
   "language": "python",
   "name": "venv"
  },
  "language_info": {
   "codemirror_mode": {
    "name": "ipython",
    "version": 3
   },
   "file_extension": ".py",
   "mimetype": "text/x-python",
   "name": "python",
   "nbconvert_exporter": "python",
   "pygments_lexer": "ipython3",
   "version": "3.10.7"
  }
 },
 "nbformat": 4,
 "nbformat_minor": 5
}
