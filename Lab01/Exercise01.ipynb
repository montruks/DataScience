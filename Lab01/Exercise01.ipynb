{
 "cells": [
  {
   "cell_type": "markdown",
   "id": "b7444f13",
   "metadata": {},
   "source": [
    "# Exercise 1 - Iris dataset"
   ]
  },
  {
   "cell_type": "markdown",
   "id": "317c43c7",
   "metadata": {},
   "source": [
    "1. Load the previously downloaded Iris dataset as a list of lists."
   ]
  },
  {
   "cell_type": "code",
   "execution_count": 1,
   "id": "45793582",
   "metadata": {},
   "outputs": [],
   "source": [
    "import csv\n",
    "import math\n",
    "\n",
    "with open(\"iris.csv\") as f:\n",
    "    ds = list(csv.reader(f))\n",
    "    ds = ds[0: -1] # last line is empty so we remove it"
   ]
  },
  {
   "cell_type": "markdown",
   "id": "71058772",
   "metadata": {},
   "source": [
    "2. Compute and print the mean and the standard deviation for each of the 4 measurement columns."
   ]
  },
  {
   "cell_type": "code",
   "execution_count": 2,
   "id": "f9d09468",
   "metadata": {},
   "outputs": [],
   "source": [
    "def mean_std(lst):\n",
    "    m = sum(lst)/len(lst)\n",
    "    std = math.sqrt(sum([(el - m) ** 2 for el in lst]) / len(lst))\n",
    "    return m, std"
   ]
  },
  {
   "cell_type": "code",
   "execution_count": 3,
   "id": "46a9921d",
   "metadata": {},
   "outputs": [
    {
     "name": "stdout",
     "output_type": "stream",
     "text": [
      "measurement 0 has mean 5.843333333333335  and standard deviation 0.8253012917851409\n",
      "measurement 1 has mean 3.0540000000000007  and standard deviation 0.4321465800705435\n",
      "measurement 2 has mean 3.7586666666666693  and standard deviation 1.7585291834055201\n",
      "measurement 3 has mean 1.1986666666666672  and standard deviation 0.760612618588172\n"
     ]
    }
   ],
   "source": [
    "for i in range(0, 4):\n",
    "    lst = [line[i] for line in ds]\n",
    "    lst = list(map(float, lst))\n",
    "    m , std =  mean_std(lst)\n",
    "    print(\"measurement\", i, \"has mean\", m, \" and standard deviation\", std)"
   ]
  },
  {
   "cell_type": "markdown",
   "id": "55c3b185",
   "metadata": {},
   "source": [
    "3. Compute and print the mean and the standard deviation for each of the 4 measurement columns, separately for each of the three Iris species."
   ]
  },
  {
   "cell_type": "code",
   "execution_count": 4,
   "id": "f81fc58d",
   "metadata": {},
   "outputs": [],
   "source": [
    "lst = [line[4] for line in ds]\n",
    "iris_type = set(lst)"
   ]
  },
  {
   "cell_type": "code",
   "execution_count": 5,
   "id": "0599de3a",
   "metadata": {},
   "outputs": [
    {
     "name": "stdout",
     "output_type": "stream",
     "text": [
      "for species Iris-setosa the measurement 0 has mean 5.005999999999999  and standard deviation 0.348946987377739\n",
      "for species Iris-setosa the measurement 1 has mean 3.4180000000000006  and standard deviation 0.37719490982779713\n",
      "for species Iris-setosa the measurement 2 has mean 1.464  and standard deviation 0.17176728442867115\n",
      "for species Iris-setosa the measurement 3 has mean 0.2439999999999999  and standard deviation 0.10613199329137278\n",
      "for species Iris-virginica the measurement 0 has mean 6.587999999999998  and standard deviation 0.6294886813914925\n",
      "for species Iris-virginica the measurement 1 has mean 2.9739999999999998  and standard deviation 0.319255383666431\n",
      "for species Iris-virginica the measurement 2 has mean 5.552  and standard deviation 0.5463478745268441\n",
      "for species Iris-virginica the measurement 3 has mean 2.026  and standard deviation 0.2718896835115301\n",
      "for species Iris-versicolor the measurement 0 has mean 5.936  and standard deviation 0.5109833656783752\n",
      "for species Iris-versicolor the measurement 1 has mean 2.7700000000000005  and standard deviation 0.31064449134018135\n",
      "for species Iris-versicolor the measurement 2 has mean 4.26  and standard deviation 0.4651881339845204\n",
      "for species Iris-versicolor the measurement 3 has mean 1.3259999999999998  and standard deviation 0.19576516544063702\n"
     ]
    }
   ],
   "source": [
    "for t in iris_type:\n",
    "    for i in range(0, 4):\n",
    "        lst = [line[i] for line in ds if line[4] == t]\n",
    "        lst = list(map(float, lst))\n",
    "        m , std =  mean_std(lst)\n",
    "        print(\"for species\", t, \"the measurement\", i, \"has mean\", m, \" and standard deviation\", std)"
   ]
  },
  {
   "cell_type": "markdown",
   "id": "077e555a",
   "metadata": {},
   "source": [
    "4. Based on the results of exercises 2 and 3, which of the 4 measurements would you considering as being the most characterizing one for the three species?"
   ]
  },
  {
   "cell_type": "markdown",
   "id": "586d5a1b",
   "metadata": {},
   "source": [
    "According to excercise 2 `mesurement 2` has the biggest standard deviation.<br>\n",
    "Moreover, according to exercise 3, the mean of `mesurement 2` taken separately for the 3 species are far from each other.<br>\n",
    "So, `mesurement 2` is the most characterizing measurement."
   ]
  },
  {
   "cell_type": "markdown",
   "id": "f805bcea",
   "metadata": {},
   "source": [
    "5. Based on the considerations of Exercise 3, assign the flowers with the following measurements to what you consider would be the most likely species.\n",
    "\n",
    "`5.2, 3.1, 4.0, 1.2`<br>\n",
    "`4.9, 2.5, 5.6, 2.0`<br>\n",
    "`5.4, 3.2, 1.9, 0.4`"
   ]
  },
  {
   "cell_type": "markdown",
   "id": "48b6a2c1",
   "metadata": {},
   "source": [
    "The categories that seems to fit best are respectively:\n",
    "\n",
    "`Iris-versicolor`<br>\n",
    "`Iris-virginica`<br>\n",
    "`Iris-setosa`"
   ]
  },
  {
   "cell_type": "code",
   "execution_count": null,
   "id": "3a59c51a",
   "metadata": {},
   "outputs": [],
   "source": []
  }
 ],
 "metadata": {
  "kernelspec": {
   "display_name": "venv",
   "language": "python",
   "name": "venv"
  },
  "language_info": {
   "codemirror_mode": {
    "name": "ipython",
    "version": 3
   },
   "file_extension": ".py",
   "mimetype": "text/x-python",
   "name": "python",
   "nbconvert_exporter": "python",
   "pygments_lexer": "ipython3",
   "version": "3.10.7"
  }
 },
 "nbformat": 4,
 "nbformat_minor": 5
}
