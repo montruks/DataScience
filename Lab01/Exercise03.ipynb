{
 "cells": [
  {
   "cell_type": "code",
   "execution_count": 1,
   "id": "55741583",
   "metadata": {},
   "outputs": [],
   "source": [
    "import csv\n",
    "import copy\n",
    "import math\n",
    "\n",
    "with open(\"MNIST.csv\") as f:\n",
    "    ds = list(csv.reader(f))"
   ]
  },
  {
   "cell_type": "code",
   "execution_count": 2,
   "id": "cee0594c",
   "metadata": {},
   "outputs": [],
   "source": [
    "def list_to_string(lst):\n",
    "    s = \"\"\n",
    "    for x in lst:\n",
    "        s += x\n",
    "    return s"
   ]
  },
  {
   "cell_type": "code",
   "execution_count": 3,
   "id": "f8d900d2",
   "metadata": {},
   "outputs": [],
   "source": [
    "def print_number(k, ds):\n",
    "    print(\"il numero stampato è:\", ds[k][0])\n",
    "    lst = copy.deepcopy(ds[k][1:])\n",
    "    lst = list(map(int, lst))\n",
    "    \n",
    "    lst = list(map(lambda x: ' ' if x < 64 else ('.' if x < 128 else ('*' if x < 192 else '#')), lst))\n",
    "    for i in range(0, 28):\n",
    "        print(list_to_string(lst[0 + 28 * i: 27 + 28 * i]))"
   ]
  },
  {
   "cell_type": "code",
   "execution_count": 4,
   "id": "c066253b",
   "metadata": {},
   "outputs": [
    {
     "name": "stdout",
     "output_type": "stream",
     "text": [
      "il numero stampato è: 5\n",
      "                           \n",
      "                           \n",
      "                           \n",
      "                           \n",
      "                           \n",
      "              .#      **   \n",
      "             .##..*#####   \n",
      "            #########*.    \n",
      "           #####***.       \n",
      "          ##*              \n",
      "         *##               \n",
      "         ##                \n",
      "        .##                \n",
      "         ###*              \n",
      "         .#####.           \n",
      "            *###*          \n",
      "              *###*        \n",
      "                ###        \n",
      "                .##        \n",
      "                ###        \n",
      "              .###         \n",
      "        .    *###.         \n",
      "       .# .*###*           \n",
      "       .######.            \n",
      "        *##*.              \n",
      "                           \n",
      "                           \n",
      "                           \n"
     ]
    }
   ],
   "source": [
    "print_number(129, ds)"
   ]
  },
  {
   "cell_type": "code",
   "execution_count": 5,
   "id": "e5064474",
   "metadata": {},
   "outputs": [],
   "source": [
    "def euclidean_dist(m1, m2):\n",
    "    lst = []\n",
    "    for i in range(0, len(m1)):\n",
    "        lst.append((int(m1[i]) - int(m2[i])) ** 2)\n",
    "    return math.sqrt(sum(lst)/len(lst))"
   ]
  },
  {
   "cell_type": "code",
   "execution_count": 6,
   "id": "c81a1dd2",
   "metadata": {},
   "outputs": [
    {
     "name": "stdout",
     "output_type": "stream",
     "text": [
      "[0.0, 126.40082928073353, 127.01499891343381, 115.11453369295702]\n",
      "[126.40082928073353, 0.0, 41.851047825372696, 90.39297708407689]\n",
      "[127.01499891343381, 41.851047825372696, 0.0, 89.84142776501909]\n",
      "[115.11453369295702, 90.39297708407689, 89.84142776501909, 0.0]\n"
     ]
    }
   ],
   "source": [
    "digit_list = [25, 29, 31, 34]\n",
    "distances = [[], [], [], []]\n",
    "for i in range(0, len(digit_list)):\n",
    "    for j in range(0, len(digit_list)):\n",
    "        distances[i].append(euclidean_dist(ds[digit_list[i]][1:], ds[digit_list[j]][1:]))\n",
    "    print(distances[i])"
   ]
  },
  {
   "cell_type": "code",
   "execution_count": null,
   "id": "bed1d4bb",
   "metadata": {},
   "outputs": [],
   "source": []
  }
 ],
 "metadata": {
  "kernelspec": {
   "display_name": "venv",
   "language": "python",
   "name": "venv"
  },
  "language_info": {
   "codemirror_mode": {
    "name": "ipython",
    "version": 3
   },
   "file_extension": ".py",
   "mimetype": "text/x-python",
   "name": "python",
   "nbconvert_exporter": "python",
   "pygments_lexer": "ipython3",
   "version": "3.10.7"
  }
 },
 "nbformat": 4,
 "nbformat_minor": 5
}
