{
 "cells": [
  {
   "cell_type": "markdown",
   "id": "281c9d9c",
   "metadata": {},
   "source": [
    "# Exercise 3 - MNIST dataset"
   ]
  },
  {
   "cell_type": "markdown",
   "id": "38bd608a",
   "metadata": {},
   "source": [
    "1\\. Load the previously downloaded MNIST dataset."
   ]
  },
  {
   "cell_type": "code",
   "execution_count": 1,
   "id": "55741583",
   "metadata": {},
   "outputs": [],
   "source": [
    "import csv\n",
    "import copy\n",
    "import math\n",
    "\n",
    "with open(\"MNIST.csv\") as f:\n",
    "    ds = list(csv.reader(f))"
   ]
  },
  {
   "cell_type": "markdown",
   "id": "8c569737",
   "metadata": {},
   "source": [
    "2\\. Create a function that, given a position $1 ≤ k ≤ 10000$, prints the $k^{th}$ digit of the dataset as a grid of $28 × 28$ characters. More specifically, you should map each range of pixel values to the following characters:\n",
    "- $[0, 64) \\rightarrow$ ' '\n",
    "- $[64, 128) \\rightarrow$ '.'\n",
    "- $[128, 192) \\rightarrow$ '*'\n",
    "- $[192, 256) \\rightarrow$ '\\#'"
   ]
  },
  {
   "cell_type": "code",
   "execution_count": 2,
   "id": "cee0594c",
   "metadata": {},
   "outputs": [],
   "source": [
    "def list_to_string(lst):\n",
    "    s = \"\"\n",
    "    for x in lst:\n",
    "        s += x\n",
    "    return s"
   ]
  },
  {
   "cell_type": "code",
   "execution_count": 3,
   "id": "f8d900d2",
   "metadata": {},
   "outputs": [],
   "source": [
    "def print_number(k, ds):\n",
    "    print(\"il numero stampato è:\", ds[k][0])\n",
    "    lst = copy.deepcopy(ds[k][1:])\n",
    "    lst = list(map(int, lst))\n",
    "    \n",
    "    lst = list(map(lambda x: ' ' if x < 64 else ('.' if x < 128 else ('*' if x < 192 else '#')), lst))\n",
    "    for i in range(0, 28):\n",
    "        print(list_to_string(lst[0 + 28 * i: 27 + 28 * i]))"
   ]
  },
  {
   "cell_type": "code",
   "execution_count": 4,
   "id": "c066253b",
   "metadata": {},
   "outputs": [
    {
     "name": "stdout",
     "output_type": "stream",
     "text": [
      "il numero stampato è: 4\n",
      "                           \n",
      "                           \n",
      "                           \n",
      "                           \n",
      "                           \n",
      "          ##               \n",
      "         .##               \n",
      "         ##.    .#.        \n",
      "        .##     *#.        \n",
      "        *#*     *#.        \n",
      "        ##      *#.        \n",
      "        ##      ##.        \n",
      "       *#*      ##.        \n",
      "       *##*    *##.        \n",
      "       .*###*  *##.        \n",
      "          *#######         \n",
      "             .**##         \n",
      "               .##         \n",
      "               *#*         \n",
      "               *#.         \n",
      "               *#.         \n",
      "               *#.         \n",
      "               *#.         \n",
      "               .#.         \n",
      "                ##.        \n",
      "                           \n",
      "                           \n",
      "                           \n"
     ]
    }
   ],
   "source": [
    "print_number(5200, ds)"
   ]
  },
  {
   "cell_type": "markdown",
   "id": "d1ad77f1",
   "metadata": {},
   "source": [
    "3\\. Compute the Euclidean distance between each pair of the $784$-dimensional vectors of the digits at the following positions: $26^{th}$, $30^{th}$, $32^{nd}$, $35^{th}$."
   ]
  },
  {
   "cell_type": "code",
   "execution_count": 5,
   "id": "e5064474",
   "metadata": {},
   "outputs": [],
   "source": [
    "def euclidean_dist(m1, m2):\n",
    "    return math.sqrt(sum([(int(el1) - int(el2)) ** 2 for el1, el2 in zip(m1, m2)]) / len(m1))"
   ]
  },
  {
   "cell_type": "code",
   "execution_count": 6,
   "id": "c81a1dd2",
   "metadata": {},
   "outputs": [
    {
     "name": "stdout",
     "output_type": "stream",
     "text": [
      "[0.0, 126.40082928073353, 127.01499891343381, 115.11453369295702]\n",
      "[126.40082928073353, 0.0, 41.851047825372696, 90.39297708407689]\n",
      "[127.01499891343381, 41.851047825372696, 0.0, 89.84142776501909]\n",
      "[115.11453369295702, 90.39297708407689, 89.84142776501909, 0.0]\n"
     ]
    }
   ],
   "source": [
    "digit_list = [25, 29, 31, 34]\n",
    "distances = [[], [], [], []]\n",
    "for i in range(0, len(digit_list)):\n",
    "    for j in range(0, len(digit_list)):\n",
    "        distances[i].append(euclidean_dist(ds[digit_list[i]][1:], ds[digit_list[j]][1:]))\n",
    "    print(distances[i])"
   ]
  },
  {
   "cell_type": "markdown",
   "id": "052a63e9",
   "metadata": {},
   "source": [
    "4\\. Based on the distances computed in the previous step and knowing that the digits listed in Exercise 3 are (not necessarily in this order) $7$, $0$, $1$, $1$, can you assign the correct label to each of the digits of Exercise 3?"
   ]
  },
  {
   "cell_type": "markdown",
   "id": "dda35271",
   "metadata": {},
   "source": [
    "The $30^{th}$ and $32^{nd}$ are very close to each other so they are both $1$.<br>\n",
    "The $35^{th}$ is nearer to $30^{th}$ than $32^{nd}$ so it is a $7$ ($7$ is more similar to $1$ than $0$).<br>\n",
    "So, the $26^{th}$ is a $0$."
   ]
  },
  {
   "cell_type": "markdown",
   "id": "88afc62b",
   "metadata": {},
   "source": [
    "5\\. There are $1,135$ $1$’s and $980$ $0$’s in the dataset. For all $0$’s and $1$’s separately, count the number of times each of the $784$ pixels is black (use $128$ as the threshold value). You can do this by building a list `Z` and a list `O`, each containing $784$ elements, containing respectively the counts for the $0$’s and the $1$’s. `Z[i]` and `O[i]` contain the number of times the $i^{th}$ pixel was black for either class. For each value $i$, compute `abs(Z[i] - O[i])`. The $i$ with the highest value represents the pixel that best separates the digits $0$ and $1$. Where is this pixel located within the grid? Why is it?"
   ]
  },
  {
   "cell_type": "code",
   "execution_count": 7,
   "id": "adf9295c",
   "metadata": {},
   "outputs": [
    {
     "name": "stdout",
     "output_type": "stream",
     "text": [
      "maximum is 1113 and it as at coordinates 14 14\n"
     ]
    }
   ],
   "source": [
    "Z = [0] * 784\n",
    "O = [0] * 784\n",
    "for line in ds:\n",
    "    if line[0] == '0':\n",
    "        lst = list(map(lambda el: 0 if int(el) < 128 else 1, line[1:]))\n",
    "        Z = [a + b for a, b in zip(Z, lst)]\n",
    "    elif line[0] == '1':\n",
    "        lst = list(map(lambda el: 0 if int(el) < 128 else 1, line[1:]))\n",
    "        O = [a + b for a, b in zip(O, lst)]\n",
    "differences = [abs(a - b) for a, b in zip (Z, O)]\n",
    "M = max(differences)\n",
    "index = differences.index(M)\n",
    "print(\"maximum is\", M, \"and it as at coordinates\", int(index / 28), index % 28)"
   ]
  },
  {
   "cell_type": "markdown",
   "id": "38f9ba36",
   "metadata": {},
   "source": [
    "The pixel that best separates the digits $0$ and $1$ is the one in the middle of the grid simce it is black in the midle of the $0$'s and white ad half of $1$ figure."
   ]
  },
  {
   "cell_type": "code",
   "execution_count": null,
   "id": "1e0757a0",
   "metadata": {},
   "outputs": [],
   "source": []
  }
 ],
 "metadata": {
  "kernelspec": {
   "display_name": "venv",
   "language": "python",
   "name": "venv"
  },
  "language_info": {
   "codemirror_mode": {
    "name": "ipython",
    "version": 3
   },
   "file_extension": ".py",
   "mimetype": "text/x-python",
   "name": "python",
   "nbconvert_exporter": "python",
   "pygments_lexer": "ipython3",
   "version": "3.10.7"
  }
 },
 "nbformat": 4,
 "nbformat_minor": 5
}
