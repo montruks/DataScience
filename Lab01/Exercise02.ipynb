{
 "cells": [
  {
   "cell_type": "code",
   "execution_count": 1,
   "id": "2ef35b1f",
   "metadata": {},
   "outputs": [],
   "source": [
    "import json\n",
    "\n",
    "with open(\"to_bike.json\") as f:\n",
    "    ds = json.load(f)"
   ]
  },
  {
   "cell_type": "code",
   "execution_count": 2,
   "id": "606875a1",
   "metadata": {},
   "outputs": [
    {
     "name": "stdout",
     "output_type": "stream",
     "text": [
      "<class 'dict'>\n",
      "dict_keys(['network'])\n",
      "<class 'dict'>\n",
      "dict_keys(['company', 'href', 'id', 'location', 'name', 'source', 'stations'])\n",
      "<class 'list'>\n",
      "<class 'dict'>\n",
      "dict_keys(['empty_slots', 'extra', 'free_bikes', 'id', 'latitude', 'longitude', 'name', 'timestamp'])\n",
      "<class 'dict'>\n",
      "dict_keys(['number', 'reviews', 'score', 'status', 'uid'])\n",
      "<class 'str'>\n",
      "online\n"
     ]
    }
   ],
   "source": [
    "print(type(ds))\n",
    "print(ds.keys())\n",
    "\n",
    "print(type(ds['network']))\n",
    "print(ds['network'].keys())\n",
    "\n",
    "print(type(ds['network']['stations']))\n",
    "\n",
    "print(type(ds['network']['stations'][0]))\n",
    "print(ds['network']['stations'][0].keys())\n",
    "\n",
    "print(type(ds['network']['stations'][0]['extra']))\n",
    "print(ds['network']['stations'][0]['extra'].keys())\n",
    "\n",
    "print(type(ds['network']['stations'][0]['extra']['status']))\n",
    "print(ds['network']['stations'][0]['extra']['status'])"
   ]
  },
  {
   "cell_type": "code",
   "execution_count": 3,
   "id": "c98986c4",
   "metadata": {},
   "outputs": [
    {
     "name": "stdout",
     "output_type": "stream",
     "text": [
      "111\n"
     ]
    }
   ],
   "source": [
    "count = 0\n",
    "for station in ds['network']['stations']:\n",
    "    if station['extra']['status'] == 'online':\n",
    "        count = count + 1\n",
    "print(count)"
   ]
  },
  {
   "cell_type": "code",
   "execution_count": 4,
   "id": "0392aaea",
   "metadata": {},
   "outputs": [
    {
     "name": "stdout",
     "output_type": "stream",
     "text": [
      "1296\n",
      "146\n"
     ]
    }
   ],
   "source": [
    "count_empty_slots = 0\n",
    "count_free_bikes = 0\n",
    "for station in ds['network']['stations']:\n",
    "    count_empty_slots = count_empty_slots + station['empty_slots']\n",
    "    count_free_bikes = count_free_bikes + station['free_bikes']\n",
    "print(count_empty_slots)\n",
    "print(count_free_bikes)"
   ]
  },
  {
   "cell_type": "code",
   "execution_count": null,
   "id": "027f5ee3",
   "metadata": {},
   "outputs": [],
   "source": []
  }
 ],
 "metadata": {
  "kernelspec": {
   "display_name": "venv",
   "language": "python",
   "name": "venv"
  },
  "language_info": {
   "codemirror_mode": {
    "name": "ipython",
    "version": 3
   },
   "file_extension": ".py",
   "mimetype": "text/x-python",
   "name": "python",
   "nbconvert_exporter": "python",
   "pygments_lexer": "ipython3",
   "version": "3.10.7"
  }
 },
 "nbformat": 4,
 "nbformat_minor": 5
}
