{
 "cells": [
  {
   "cell_type": "code",
   "execution_count": 1,
   "id": "6652db97",
   "metadata": {},
   "outputs": [],
   "source": [
    "import csv\n",
    "import string\n",
    "\n",
    "with open(\"IMDb.csv\", \"r\", encoding = \"UTF-8\") as f:\n",
    "    IMDb = list(csv.reader(f))"
   ]
  },
  {
   "cell_type": "code",
   "execution_count": 2,
   "id": "f6a0f3fc",
   "metadata": {},
   "outputs": [],
   "source": [
    "IMDb = IMDb[1:]"
   ]
  },
  {
   "cell_type": "code",
   "execution_count": 3,
   "id": "e721c5e9",
   "metadata": {},
   "outputs": [],
   "source": [
    "def tokenize(docs):\n",
    "    \"\"\"Compute the tokens for each document.\n",
    "    Input: a list of strings. Each item is a document to tokenize.\n",
    "    Output: a list of lists. Each item is a list containing the tokens of the\n",
    "    relative document.\n",
    "    \"\"\"\n",
    "    tokens = []\n",
    "    for doc in docs:\n",
    "        for punct in string.punctuation:\n",
    "            doc = doc.replace(punct, \" \")\n",
    "        split_doc = [ token.lower() for token in doc.split(\" \") if token ]\n",
    "        tokens.append(split_doc)\n",
    "    return tokens"
   ]
  },
  {
   "cell_type": "code",
   "execution_count": 10,
   "id": "b1d2eb92",
   "metadata": {},
   "outputs": [],
   "source": [
    "lst = [line[0] for line in IMDb]\n",
    "tokens = tokenize(lst)"
   ]
  },
  {
   "cell_type": "code",
   "execution_count": 12,
   "id": "5f5e3b91",
   "metadata": {},
   "outputs": [],
   "source": [
    "TF_list = []\n",
    "for document in tokens:\n",
    "    TF_list.append({token: document.count(token) for token in set(document)})"
   ]
  },
  {
   "cell_type": "code",
   "execution_count": 18,
   "id": "608b7a25",
   "metadata": {},
   "outputs": [],
   "source": [
    "DF = {}\n",
    "for document in TF_list:\n",
    "    for token in document:\n",
    "        if token in DF:\n",
    "            DF[token] += 1\n",
    "        else:\n",
    "            DF[token] = 1"
   ]
  },
  {
   "cell_type": "code",
   "execution_count": null,
   "id": "363c58e7",
   "metadata": {},
   "outputs": [],
   "source": []
  }
 ],
 "metadata": {
  "kernelspec": {
   "display_name": "venv",
   "language": "python",
   "name": "venv"
  },
  "language_info": {
   "codemirror_mode": {
    "name": "ipython",
    "version": 3
   },
   "file_extension": ".py",
   "mimetype": "text/x-python",
   "name": "python",
   "nbconvert_exporter": "python",
   "pygments_lexer": "ipython3",
   "version": "3.10.7"
  }
 },
 "nbformat": 4,
 "nbformat_minor": 5
}
